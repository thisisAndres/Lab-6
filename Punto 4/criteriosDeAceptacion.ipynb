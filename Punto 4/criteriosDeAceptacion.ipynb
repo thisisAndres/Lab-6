{
 "cells": [
  {
   "cell_type": "markdown",
   "metadata": {},
   "source": [
    "### Criterios de aceptación para la funcionalidad de restablecimiento de contraseña\n",
    "\n",
    "#### Criterio de aceptación 1: Envío de correo electrónico de restablecimiento\n",
    "- **Dado:** Un usuario ha ingresado su correo electrónico en el formulario de restablecimiento.\n",
    "- **Cuando:** Hace clic en \"Enviar\".\n",
    "- **Entonces:** Se envía un correo electrónico con un enlace de restablecimiento de contraseña.\n",
    "\n",
    "#### Criterio de aceptación 2: Enlace de restablecimiento válido\n",
    "- **Dado:** Un usuario ha recibido un correo electrónico de restablecimiento.\n",
    "- **Cuando:** Hace clic en el enlace proporcionado.\n",
    "- **Entonces:** Se redirige a una página segura para ingresar una nueva contraseña.\n",
    "\n",
    "#### Criterio de aceptación 3: Confirmación de nueva contraseña\n",
    "- **Dado:** Un usuario ha ingresado una nueva contraseña en la página de restablecimiento.\n",
    "- **Cuando:** Hace clic en \"Confirmar\".\n",
    "- **Entonces:** La contraseña se actualiza y el usuario recibe un mensaje de confirmación.\n"
   ]
  }
 ],
 "metadata": {
  "language_info": {
   "name": "python"
  }
 },
 "nbformat": 4,
 "nbformat_minor": 2
}
